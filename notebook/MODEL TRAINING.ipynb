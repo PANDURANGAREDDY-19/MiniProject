{
 "cells": [
  {
   "cell_type": "markdown",
   "id": "c4dd81c7",
   "metadata": {},
   "source": [
    "# Importing Python Packages for MOdel Traing"
   ]
  },
  {
   "cell_type": "code",
   "execution_count": null,
   "id": "1e1be0d8",
   "metadata": {},
   "outputs": [],
   "source": []
  },
  {
   "cell_type": "markdown",
   "id": "d80512e7",
   "metadata": {},
   "source": [
    "## Importing Data From CSV file"
   ]
  },
  {
   "cell_type": "code",
   "execution_count": null,
   "id": "4766a144",
   "metadata": {},
   "outputs": [],
   "source": []
  },
  {
   "cell_type": "markdown",
   "id": "0b79b3c1",
   "metadata": {},
   "source": [
    "#### Preparing X and Y Variables for Prediction"
   ]
  },
  {
   "cell_type": "code",
   "execution_count": null,
   "id": "9116599e",
   "metadata": {},
   "outputs": [],
   "source": []
  },
  {
   "cell_type": "markdown",
   "id": "e0085e75",
   "metadata": {},
   "source": [
    "Column Transformer"
   ]
  },
  {
   "cell_type": "code",
   "execution_count": null,
   "id": "276d3070",
   "metadata": {},
   "outputs": [],
   "source": []
  },
  {
   "cell_type": "markdown",
   "id": "4925fb9b",
   "metadata": {},
   "source": [
    "Splitting Data in train_test clusters"
   ]
  },
  {
   "cell_type": "code",
   "execution_count": null,
   "id": "742633b1",
   "metadata": {},
   "outputs": [],
   "source": [
    "from sklearn.model_selection import train_test_split"
   ]
  },
  {
   "cell_type": "markdown",
   "id": "d41b23e2",
   "metadata": {},
   "source": [
    "### Create an Evaluation Function to give all metrics after Model Training"
   ]
  },
  {
   "cell_type": "code",
   "execution_count": null,
   "id": "98d6a4f1",
   "metadata": {},
   "outputs": [],
   "source": []
  },
  {
   "cell_type": "markdown",
   "id": "42eba285",
   "metadata": {},
   "source": [
    "Selecting Best Model based on Evaluation Metrics"
   ]
  },
  {
   "cell_type": "code",
   "execution_count": null,
   "id": "74165e92",
   "metadata": {},
   "outputs": [],
   "source": []
  },
  {
   "cell_type": "markdown",
   "id": "cd8f1a78",
   "metadata": {},
   "source": [
    "Model Prediction"
   ]
  },
  {
   "cell_type": "code",
   "execution_count": null,
   "id": "ace28bb2",
   "metadata": {},
   "outputs": [],
   "source": []
  }
 ],
 "metadata": {
  "language_info": {
   "name": "python"
  }
 },
 "nbformat": 4,
 "nbformat_minor": 5
}
