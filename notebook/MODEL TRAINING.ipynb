{
 "cells": [
  {
   "cell_type": "markdown",
   "id": "c4dd81c7",
   "metadata": {},
   "source": [
    "# Importing Python Packages for Model Traing"
   ]
  },
  {
   "cell_type": "code",
   "execution_count": 207,
   "id": "1e1be0d8",
   "metadata": {},
   "outputs": [],
   "source": [
    "import numpy as np\n",
    "import pandas as pd\n",
    "import matplotlib.pyplot as plt \n",
    "import seaborn as sns\n",
    "from sklearn.model_selection import train_test_split\n",
    "# Classification models (not regression)\n",
    "from sklearn.linear_model import LogisticRegression\n",
    "from sklearn.tree import DecisionTreeClassifier\n",
    "from sklearn.ensemble import RandomForestClassifier, AdaBoostClassifier, GradientBoostingClassifier\n",
    "from sklearn.svm import SVC\n",
    "from sklearn.neighbors import KNeighborsClassifier\n",
    "from xgboost import XGBClassifier\n",
    "from catboost import CatBoostClassifier\n",
    "from sklearn.linear_model import RidgeClassifier\n",
    "from sklearn.neural_network import MLPClassifier\n",
    "\n",
    "# Classification metrics (not regression metrics)\n",
    "from sklearn.metrics import accuracy_score, precision_score, recall_score, f1_score\n",
    "from sklearn.metrics import confusion_matrix, classification_report, roc_auc_score, roc_curve\n",
    "import warnings"
   ]
  },
  {
   "cell_type": "markdown",
   "id": "d80512e7",
   "metadata": {},
   "source": [
    "## Importing Data From CSV file"
   ]
  },
  {
   "cell_type": "code",
   "execution_count": 208,
   "id": "4766a144",
   "metadata": {},
   "outputs": [],
   "source": [
    "df = pd.DataFrame(pd.read_csv(\"data/heart.csv\"))"
   ]
  },
  {
   "cell_type": "code",
   "execution_count": 209,
   "id": "d8ec61a1",
   "metadata": {},
   "outputs": [
    {
     "data": {
      "text/html": [
       "<div>\n",
       "<style scoped>\n",
       "    .dataframe tbody tr th:only-of-type {\n",
       "        vertical-align: middle;\n",
       "    }\n",
       "\n",
       "    .dataframe tbody tr th {\n",
       "        vertical-align: top;\n",
       "    }\n",
       "\n",
       "    .dataframe thead th {\n",
       "        text-align: right;\n",
       "    }\n",
       "</style>\n",
       "<table border=\"1\" class=\"dataframe\">\n",
       "  <thead>\n",
       "    <tr style=\"text-align: right;\">\n",
       "      <th></th>\n",
       "      <th>Age</th>\n",
       "      <th>Sex</th>\n",
       "      <th>ChestPainType</th>\n",
       "      <th>RestingBP</th>\n",
       "      <th>Cholesterol</th>\n",
       "      <th>FastingBS</th>\n",
       "      <th>RestingECG</th>\n",
       "      <th>MaxHR</th>\n",
       "      <th>ExerciseAngina</th>\n",
       "      <th>Oldpeak</th>\n",
       "      <th>ST_Slope</th>\n",
       "      <th>HeartDisease</th>\n",
       "    </tr>\n",
       "  </thead>\n",
       "  <tbody>\n",
       "    <tr>\n",
       "      <th>0</th>\n",
       "      <td>40</td>\n",
       "      <td>M</td>\n",
       "      <td>ATA</td>\n",
       "      <td>140</td>\n",
       "      <td>289</td>\n",
       "      <td>0</td>\n",
       "      <td>Normal</td>\n",
       "      <td>172</td>\n",
       "      <td>N</td>\n",
       "      <td>0.0</td>\n",
       "      <td>Up</td>\n",
       "      <td>0</td>\n",
       "    </tr>\n",
       "    <tr>\n",
       "      <th>1</th>\n",
       "      <td>49</td>\n",
       "      <td>F</td>\n",
       "      <td>NAP</td>\n",
       "      <td>160</td>\n",
       "      <td>180</td>\n",
       "      <td>0</td>\n",
       "      <td>Normal</td>\n",
       "      <td>156</td>\n",
       "      <td>N</td>\n",
       "      <td>1.0</td>\n",
       "      <td>Flat</td>\n",
       "      <td>1</td>\n",
       "    </tr>\n",
       "    <tr>\n",
       "      <th>2</th>\n",
       "      <td>37</td>\n",
       "      <td>M</td>\n",
       "      <td>ATA</td>\n",
       "      <td>130</td>\n",
       "      <td>283</td>\n",
       "      <td>0</td>\n",
       "      <td>ST</td>\n",
       "      <td>98</td>\n",
       "      <td>N</td>\n",
       "      <td>0.0</td>\n",
       "      <td>Up</td>\n",
       "      <td>0</td>\n",
       "    </tr>\n",
       "    <tr>\n",
       "      <th>3</th>\n",
       "      <td>48</td>\n",
       "      <td>F</td>\n",
       "      <td>ASY</td>\n",
       "      <td>138</td>\n",
       "      <td>214</td>\n",
       "      <td>0</td>\n",
       "      <td>Normal</td>\n",
       "      <td>108</td>\n",
       "      <td>Y</td>\n",
       "      <td>1.5</td>\n",
       "      <td>Flat</td>\n",
       "      <td>1</td>\n",
       "    </tr>\n",
       "    <tr>\n",
       "      <th>4</th>\n",
       "      <td>54</td>\n",
       "      <td>M</td>\n",
       "      <td>NAP</td>\n",
       "      <td>150</td>\n",
       "      <td>195</td>\n",
       "      <td>0</td>\n",
       "      <td>Normal</td>\n",
       "      <td>122</td>\n",
       "      <td>N</td>\n",
       "      <td>0.0</td>\n",
       "      <td>Up</td>\n",
       "      <td>0</td>\n",
       "    </tr>\n",
       "  </tbody>\n",
       "</table>\n",
       "</div>"
      ],
      "text/plain": [
       "   Age Sex ChestPainType  RestingBP  Cholesterol  FastingBS RestingECG  MaxHR  \\\n",
       "0   40   M           ATA        140          289          0     Normal    172   \n",
       "1   49   F           NAP        160          180          0     Normal    156   \n",
       "2   37   M           ATA        130          283          0         ST     98   \n",
       "3   48   F           ASY        138          214          0     Normal    108   \n",
       "4   54   M           NAP        150          195          0     Normal    122   \n",
       "\n",
       "  ExerciseAngina  Oldpeak ST_Slope  HeartDisease  \n",
       "0              N      0.0       Up             0  \n",
       "1              N      1.0     Flat             1  \n",
       "2              N      0.0       Up             0  \n",
       "3              Y      1.5     Flat             1  \n",
       "4              N      0.0       Up             0  "
      ]
     },
     "execution_count": 209,
     "metadata": {},
     "output_type": "execute_result"
    }
   ],
   "source": [
    "df.head()"
   ]
  },
  {
   "cell_type": "markdown",
   "id": "5f13e3bf",
   "metadata": {},
   "source": [
    "## Removing Outliers from Data"
   ]
  },
  {
   "cell_type": "code",
   "execution_count": 210,
   "id": "07937d12",
   "metadata": {},
   "outputs": [
    {
     "data": {
      "text/plain": [
       "(735, 12)"
      ]
     },
     "execution_count": 210,
     "metadata": {},
     "output_type": "execute_result"
    }
   ],
   "source": [
    "columns = ['Cholesterol', 'MaxHR', 'Oldpeak', 'RestingBP']\n",
    "def remove_outliers_iqr(df, columns):\n",
    "    for col in columns:\n",
    "        q1 = df[col].quantile(0.25)\n",
    "        q3 = df[col].quantile(0.75)\n",
    "        iqr = q3 - q1\n",
    "        lower_bound = q1 - (1.5 * iqr)\n",
    "        upper_bound = q3 + (1.5 * iqr)\n",
    "        df = df[(df[col] >= lower_bound) & (df[col] <= upper_bound)]\n",
    "        return df\n",
    "df = remove_outliers_iqr(df, columns)\n",
    "df.shape"
   ]
  },
  {
   "cell_type": "markdown",
   "id": "0b79b3c1",
   "metadata": {},
   "source": [
    "#### Preparing X and Y Variables for Prediction"
   ]
  },
  {
   "cell_type": "code",
   "execution_count": 211,
   "id": "9116599e",
   "metadata": {},
   "outputs": [],
   "source": [
    "X = df.drop(columns = ['HeartDisease'],axis = 1)"
   ]
  },
  {
   "cell_type": "code",
   "execution_count": 212,
   "id": "4a91ad1b",
   "metadata": {},
   "outputs": [],
   "source": [
    "Y = df['HeartDisease']"
   ]
  },
  {
   "cell_type": "markdown",
   "id": "e0085e75",
   "metadata": {},
   "source": [
    "Column Transformer"
   ]
  },
  {
   "cell_type": "code",
   "execution_count": 213,
   "id": "276d3070",
   "metadata": {},
   "outputs": [
    {
     "name": "stdout",
     "output_type": "stream",
     "text": [
      "Index(['Age', 'RestingBP', 'Cholesterol', 'FastingBS', 'MaxHR', 'Oldpeak'], dtype='object') Index(['Sex', 'ChestPainType', 'RestingECG', 'ExerciseAngina', 'ST_Slope'], dtype='object')\n"
     ]
    }
   ],
   "source": [
    "ddf = df.drop(columns='HeartDisease',axis=1)\n",
    "num_features = ddf.select_dtypes(exclude='object').columns\n",
    "cat_features = df.select_dtypes(include='object').columns\n",
    "\n",
    "print(num_features,cat_features)\n",
    "\n",
    "from sklearn.preprocessing import OneHotEncoder, StandardScaler\n",
    "from sklearn.compose import ColumnTransformer\n",
    "numeric_transformer = StandardScaler()\n",
    "oh_transformer = OneHotEncoder()\n",
    "\n",
    "preprocessor = ColumnTransformer(\n",
    "    [\n",
    "        ('OneHotEncoder',oh_transformer,cat_features),\n",
    "        ('StandardScaler',numeric_transformer,num_features),\n",
    "    ]\n",
    ")"
   ]
  },
  {
   "cell_type": "code",
   "execution_count": 214,
   "id": "e0d39066",
   "metadata": {},
   "outputs": [
    {
     "name": "stdout",
     "output_type": "stream",
     "text": [
      "[[ 0.          1.          0.         ... -0.44392387  1.2957169\n",
      "  -0.84076448]\n",
      " [ 1.          0.          0.         ... -0.44392387  0.6421901\n",
      "   0.0880825 ]\n",
      " [ 0.          1.          0.         ... -0.44392387 -1.72684452\n",
      "  -0.84076448]\n",
      " ...\n",
      " [ 0.          1.          1.         ... -0.44392387 -1.0324723\n",
      "   0.27385189]\n",
      " [ 1.          0.          0.         ... -0.44392387  1.37740775\n",
      "  -0.84076448]\n",
      " [ 0.          1.          0.         ... -0.44392387  1.33656232\n",
      "  -0.84076448]]\n"
     ]
    }
   ],
   "source": [
    "X = preprocessor.fit_transform(X)\n",
    "print(X)"
   ]
  },
  {
   "cell_type": "markdown",
   "id": "4925fb9b",
   "metadata": {},
   "source": [
    "Splitting Data in train_test clusters"
   ]
  },
  {
   "cell_type": "code",
   "execution_count": 215,
   "id": "742633b1",
   "metadata": {},
   "outputs": [
    {
     "name": "stdout",
     "output_type": "stream",
     "text": [
      "Shape of X_train data: (588, 20) Shape of X_test data: (147, 20)\n",
      "Shape of Y_train data: (588,) Shape of Y_test data: (147,)\n",
      "Shape of Original X data: (735, 20) Shape of Original Y data: (735,)\n"
     ]
    }
   ],
   "source": [
    "X_train,X_test,Y_train,Y_test = train_test_split(X,Y,test_size=0.2,random_state=42)\n",
    "print('Shape of X_train data:',X_train.shape,'Shape of X_test data:',X_test.shape)\n",
    "print('Shape of Y_train data:',Y_train.shape,'Shape of Y_test data:',Y_test.shape)\n",
    "print('Shape of Original X data:',X.shape,'Shape of Original Y data:',Y.shape)"
   ]
  },
  {
   "cell_type": "markdown",
   "id": "d41b23e2",
   "metadata": {},
   "source": [
    "### Create an Evaluation Function to give all metrics after Model Training"
   ]
  },
  {
   "cell_type": "code",
   "execution_count": 216,
   "id": "98d6a4f1",
   "metadata": {},
   "outputs": [],
   "source": [
    "def evaluate_model(true, predicted):\n",
    "    acc = accuracy_score(true, predicted)\n",
    "    prec = precision_score(true, predicted)\n",
    "    rec = recall_score(true, predicted)\n",
    "    f1 = f1_score(true, predicted)\n",
    "    return acc,prec,rec,f1"
   ]
  },
  {
   "cell_type": "code",
   "execution_count": 217,
   "id": "cf2c0019",
   "metadata": {},
   "outputs": [
    {
     "name": "stdout",
     "output_type": "stream",
     "text": [
      "Logistic Regression\n",
      "Model Performance for Training DataSet \n",
      "=> Accuracy of model: 0.8759\n",
      "=> Recall Score:0.8750\n",
      "=> Precision Score: 0.8592\n",
      "=> F1 Score: 0.8670\n",
      "-------------------------------------------\n",
      "Model Performance for Testing DataSet \n",
      "=> Accuracy of model: 0.8299\n",
      "=> Recall Score:0.8077\n",
      "=> F1 Score: 0.8344\n",
      "=> Precision Score: 0.8630\n",
      "===========================================\n",
      "\n",
      "\n",
      "K-Neighbors Classifier\n",
      "Model Performance for Training DataSet \n",
      "=> Accuracy of model: 0.8878\n",
      "=> Recall Score:0.8897\n",
      "=> Precision Score: 0.8705\n",
      "=> F1 Score: 0.8800\n",
      "-------------------------------------------\n",
      "Model Performance for Testing DataSet \n",
      "=> Accuracy of model: 0.8503\n",
      "=> Recall Score:0.8462\n",
      "=> F1 Score: 0.8571\n",
      "=> Precision Score: 0.8684\n",
      "===========================================\n",
      "\n",
      "\n",
      "SVC\n",
      "Model Performance for Training DataSet \n",
      "=> Accuracy of model: 0.9048\n",
      "=> Recall Score:0.9118\n",
      "=> Precision Score: 0.8857\n",
      "=> F1 Score: 0.8986\n",
      "-------------------------------------------\n",
      "Model Performance for Testing DataSet \n",
      "=> Accuracy of model: 0.8639\n",
      "=> Recall Score:0.8590\n",
      "=> F1 Score: 0.8701\n",
      "=> Precision Score: 0.8816\n",
      "===========================================\n",
      "\n",
      "\n",
      "Gradient Boosting Classifier\n",
      "Model Performance for Training DataSet \n",
      "=> Accuracy of model: 0.9609\n",
      "=> Recall Score:0.9632\n",
      "=> Precision Score: 0.9527\n",
      "=> F1 Score: 0.9580\n",
      "-------------------------------------------\n",
      "Model Performance for Testing DataSet \n",
      "=> Accuracy of model: 0.8707\n",
      "=> Recall Score:0.8333\n",
      "=> F1 Score: 0.8725\n",
      "=> Precision Score: 0.9155\n",
      "===========================================\n",
      "\n",
      "\n",
      "Random Forest Classifier\n",
      "Model Performance for Training DataSet \n",
      "=> Accuracy of model: 1.0000\n",
      "=> Recall Score:1.0000\n",
      "=> Precision Score: 1.0000\n",
      "=> F1 Score: 1.0000\n",
      "-------------------------------------------\n",
      "Model Performance for Testing DataSet \n",
      "=> Accuracy of model: 0.8776\n",
      "=> Recall Score:0.8462\n",
      "=> F1 Score: 0.8800\n",
      "=> Precision Score: 0.9167\n",
      "===========================================\n",
      "\n",
      "\n",
      "XGBClassifier\n",
      "Model Performance for Training DataSet \n",
      "=> Accuracy of model: 1.0000\n",
      "=> Recall Score:1.0000\n",
      "=> Precision Score: 1.0000\n",
      "=> F1 Score: 1.0000\n",
      "-------------------------------------------\n",
      "Model Performance for Testing DataSet \n",
      "=> Accuracy of model: 0.8707\n",
      "=> Recall Score:0.8462\n",
      "=> F1 Score: 0.8742\n",
      "=> Precision Score: 0.9041\n",
      "===========================================\n",
      "\n",
      "\n",
      "CatBoostClassifier\n",
      "Model Performance for Training DataSet \n",
      "=> Accuracy of model: 0.9762\n",
      "=> Recall Score:0.9779\n",
      "=> Precision Score: 0.9708\n",
      "=> F1 Score: 0.9744\n",
      "-------------------------------------------\n",
      "Model Performance for Testing DataSet \n",
      "=> Accuracy of model: 0.8707\n",
      "=> Recall Score:0.8590\n",
      "=> F1 Score: 0.8758\n",
      "=> Precision Score: 0.8933\n",
      "===========================================\n",
      "\n",
      "\n",
      "AdaBoostClassifier\n",
      "Model Performance for Training DataSet \n",
      "=> Accuracy of model: 0.8776\n",
      "=> Recall Score:0.8566\n",
      "=> Precision Score: 0.8759\n",
      "=> F1 Score: 0.8662\n",
      "-------------------------------------------\n",
      "Model Performance for Testing DataSet \n",
      "=> Accuracy of model: 0.8435\n",
      "=> Recall Score:0.7949\n",
      "=> F1 Score: 0.8435\n",
      "=> Precision Score: 0.8986\n",
      "===========================================\n",
      "\n",
      "\n",
      "MLP Classifier\n",
      "Model Performance for Training DataSet \n",
      "=> Accuracy of model: 0.9983\n",
      "=> Recall Score:0.9963\n",
      "=> Precision Score: 1.0000\n",
      "=> F1 Score: 0.9982\n",
      "-------------------------------------------\n",
      "Model Performance for Testing DataSet \n",
      "=> Accuracy of model: 0.8231\n",
      "=> Recall Score:0.7949\n",
      "=> F1 Score: 0.8267\n",
      "=> Precision Score: 0.8611\n",
      "===========================================\n",
      "\n",
      "\n",
      "DecisionTreeClassifier\n",
      "Model Performance for Training DataSet \n",
      "=> Accuracy of model: 1.0000\n",
      "=> Recall Score:1.0000\n",
      "=> Precision Score: 1.0000\n",
      "=> F1 Score: 1.0000\n",
      "-------------------------------------------\n",
      "Model Performance for Testing DataSet \n",
      "=> Accuracy of model: 0.8163\n",
      "=> Recall Score:0.7949\n",
      "=> F1 Score: 0.8212\n",
      "=> Precision Score: 0.8493\n",
      "===========================================\n",
      "\n",
      "\n"
     ]
    }
   ],
   "source": [
    "models = {\n",
    "    \"Logistic Regression\" : LogisticRegression(),\n",
    "    \"K-Neighbors Classifier\" : KNeighborsClassifier(),\n",
    "    \"SVC\" : SVC(probability=True),\n",
    "    \"Gradient Boosting Classifier\" : GradientBoostingClassifier(),\n",
    "    \"Random Forest Classifier\" : RandomForestClassifier(),\n",
    "    \"XGBClassifier\" : XGBClassifier(),\n",
    "    \"CatBoostClassifier\" : CatBoostClassifier(verbose=False),\n",
    "    \"AdaBoostClassifier\" : AdaBoostClassifier(),\n",
    "    \"MLP Classifier\" : MLPClassifier(max_iter=1000),\n",
    "    \"DecisionTreeClassifier\" : DecisionTreeClassifier(),\n",
    "\n",
    "}\n",
    "model_list = []\n",
    "f1_list = []\n",
    "Recall_list = []\n",
    "precision_list = []\n",
    "\n",
    "for i in range(len(list(models))):\n",
    "    model = list(models.values())[i]\n",
    "    model.fit(X_train,Y_train)\n",
    "\n",
    "    Y_train_predict = model.predict(X_train)\n",
    "    Y_test_predict = model.predict(X_test)\n",
    "\n",
    "    model_train_acc,model_train_pred, model_train_recall, model_train_f1 = evaluate_model(Y_train,Y_train_predict)\n",
    "    model_test_acc, model_test_pred, model_test_recall,model_test_f1 = evaluate_model(Y_test,Y_test_predict)\n",
    "\n",
    "    print(list(models.keys())[i])\n",
    "    model_list.append(list(models.keys())[i])\n",
    "\n",
    "    print('Model Performance for Training DataSet ')\n",
    "    print(\"=> Accuracy of model: {:.4f}\".format(model_train_acc))\n",
    "    print(\"=> Recall Score:{:.4f}\".format(model_train_recall))\n",
    "    print(\"=> Precision Score: {:.4f}\".format(model_train_pred))    \n",
    "    print(\"=> F1 Score: {:.4f}\".format(model_train_f1))\n",
    "\n",
    "    print(\"-\"*43)\n",
    "\n",
    "    print('Model Performance for Testing DataSet ')\n",
    "    print(\"=> Accuracy of model: {:.4f}\".format(model_test_acc))\n",
    "    print(\"=> Recall Score:{:.4f}\".format(model_test_recall))\n",
    "    print(\"=> F1 Score: {:.4f}\".format(model_test_f1))\n",
    "    print(\"=> Precision Score: {:.4f}\".format(model_test_pred))\n",
    "    f1_list.append(model_test_f1)\n",
    "    Recall_list.append(model_test_recall)\n",
    "    precision_list.append(model_test_pred)\n",
    "\n",
    "    print(\"=\"*43)\n",
    "    print('\\n')\n"
   ]
  },
  {
   "cell_type": "code",
   "execution_count": 218,
   "id": "0f0bf2f6",
   "metadata": {},
   "outputs": [],
   "source": [
    "from sklearn.metrics import roc_curve, auc, roc_auc_score\n",
    "import matplotlib.pyplot as plt\n",
    "auc_list = []\n",
    "def calculate_roc_auc(models, X_test, y_test):\n",
    "    plt.figure(figsize=(10, 8))\n",
    "    auc_scores = {}\n",
    "    \n",
    "    for name, model in models.items():\n",
    "        # Get predicted probabilities for positive class\n",
    "        model.fit(X_train, Y_train)\n",
    "        y_prob = model.predict_proba(X_test)[:, 1]\n",
    "        \n",
    "        # Calculate ROC curve\n",
    "        fpr, tpr, _ = roc_curve(y_test, y_prob)\n",
    "        \n",
    "        # Calculate AUC\n",
    "        roc_auc = auc(fpr, tpr)\n",
    "        auc_scores[name] = roc_auc\n",
    "        \n",
    "        # Plot ROC curve\n",
    "        plt.plot(fpr, tpr, lw=2, label=f'{name} (AUC = {roc_auc:.3f})')\n",
    "    \n",
    "    # Plot diagonal line (random classifier)\n",
    "    plt.plot([0, 1], [0, 1], 'k--', lw=2)\n",
    "    \n",
    "    # Set plot details\n",
    "    plt.xlim([0.0, 1.0])\n",
    "    plt.ylim([0.0, 1.05])\n",
    "    plt.xlabel('False Positive Rate')\n",
    "    plt.ylabel('True Positive Rate')\n",
    "    plt.title('ROC Curves for Model Comparison')\n",
    "    plt.legend(loc=\"lower right\")\n",
    "    plt.grid(True, alpha=0.3)\n",
    "    plt.show()\n",
    "    \n",
    "    # Print AUC scores in descending order\n",
    "    print(\"AUC Scores (higher is better):\")\n",
    "    for name, score in sorted(auc_scores.items(), key=lambda x: x[1], reverse=True):\n",
    "        print(f\"{name}: {score:.4f}\")\n",
    "    \n",
    "    auc_list_values = list(auc_scores.values())\n",
    "    auc_list_values_flatten = np.array(auc_list_values).flatten().tolist()\n",
    "    auc_list_values_float = [float(value) for value in auc_list_values_flatten]\n",
    "    print(auc_list_values_flatten)\n",
    "    auc_list.append(auc_list_values_float)\n",
    "    return auc_scores\n"
   ]
  },
  {
   "cell_type": "code",
   "execution_count": 219,
   "id": "526d3a06",
   "metadata": {},
   "outputs": [
    {
     "name": "stderr",
     "output_type": "stream",
     "text": [
      "d:\\Project\\venv\\Lib\\site-packages\\sklearn\\neural_network\\_multilayer_perceptron.py:691: ConvergenceWarning: Stochastic Optimizer: Maximum iterations (1000) reached and the optimization hasn't converged yet.\n",
      "  warnings.warn(\n"
     ]
    },
    {
     "data": {
      "image/png": "[encoded data removed]",
      "text/plain": [
       "<Figure size 1000x800 with 1 Axes>"
      ]
     },
     "metadata": {},
     "output_type": "display_data"
    },
    {
     "name": "stdout",
     "output_type": "stream",
     "text": [
      "AUC Scores (higher is better):\n",
      "Gradient Boosting Classifier: 0.9521\n",
      "CatBoostClassifier: 0.9465\n",
      "Random Forest Classifier: 0.9453\n",
      "XGBClassifier: 0.9441\n",
      "Logistic Regression: 0.9394\n",
      "AdaBoostClassifier: 0.9389\n",
      "SVC: 0.9350\n",
      "K-Neighbors Classifier: 0.9085\n",
      "MLP Classifier: 0.8952\n",
      "DecisionTreeClassifier: 0.8314\n",
      "[0.9394277220364178, 0.9084912671869194, 0.9349684132292828, 0.9520624303232998, 0.9452805648457823, 0.9440728353771832, 0.9464882943143812, 0.9388703084355258, 0.89520624303233, 0.8313823857302118]\n"
     ]
    }
   ],
   "source": [
    "def check_predict_proba(models_dict):\n",
    "    \"\"\"\n",
    "    Check if models have predict_proba method and configure them if needed\n",
    "    \n",
    "    Parameters:\n",
    "    models_dict (dict): Dictionary of model instances\n",
    "    \n",
    "    Returns:\n",
    "    dict: Dictionary of models with predict_proba capability\n",
    "    \"\"\"\n",
    "    models_with_proba = {}\n",
    "    \n",
    "    for name, model in models_dict.items():\n",
    "        if name == 'SVC':\n",
    "            # SVC needs probability=True to have predict_proba\n",
    "            models_with_proba[name] = SVC(probability=True)\n",
    "        elif name == 'RidgeClassifier':\n",
    "            # RidgeClassifier doesn't support predict_proba, so skip it\n",
    "            print(f\"Warning: {name} doesn't support predict_proba and will be excluded from ROC-AUC analysis\")\n",
    "            continue\n",
    "        else:\n",
    "            # Most other classifiers have predict_proba by default\n",
    "            models_with_proba[name] = model\n",
    "            \n",
    "    return models_with_proba\n",
    "# Assuming you have a dictionary of models\n",
    "models_dict = models\n",
    "models_with_proba = check_predict_proba(models_dict)\n",
    "auc_scores = calculate_roc_auc(models_with_proba, X_test, Y_test)\n",
    "auc_scores_flatten = np.array(auc_scores).flatten().tolist()\n"
   ]
  },
  {
   "cell_type": "markdown",
   "id": "42eba285",
   "metadata": {},
   "source": [
    "Selecting Best Model based on Evaluation Metrics"
   ]
  },
  {
   "cell_type": "code",
   "execution_count": 220,
   "id": "acf27c03",
   "metadata": {},
   "outputs": [
    {
     "name": "stdout",
     "output_type": "stream",
     "text": [
      "                         Models  AUC Scores\n",
      "8  Gradient Boosting Classifier    0.952062\n",
      "5            CatBoostClassifier    0.946488\n",
      "7      Random Forest Classifier    0.945281\n",
      "6                 XGBClassifier    0.944073\n",
      "0           Logistic Regression    0.939428\n",
      "4            AdaBoostClassifier    0.938870\n",
      "9                           SVC    0.934968\n",
      "1        K-Neighbors Classifier    0.908491\n",
      "3                MLP Classifier    0.895206\n",
      "2        DecisionTreeClassifier    0.831382\n"
     ]
    },
    {
     "data": {
      "text/html": [
       "<div>\n",
       "<style scoped>\n",
       "    .dataframe tbody tr th:only-of-type {\n",
       "        vertical-align: middle;\n",
       "    }\n",
       "\n",
       "    .dataframe tbody tr th {\n",
       "        vertical-align: top;\n",
       "    }\n",
       "\n",
       "    .dataframe thead th {\n",
       "        text-align: right;\n",
       "    }\n",
       "</style>\n",
       "<table border=\"1\" class=\"dataframe\">\n",
       "  <thead>\n",
       "    <tr style=\"text-align: right;\">\n",
       "      <th></th>\n",
       "      <th>Model_Name</th>\n",
       "      <th>F1_Score</th>\n",
       "      <th>Recall</th>\n",
       "      <th>Precision</th>\n",
       "    </tr>\n",
       "  </thead>\n",
       "  <tbody>\n",
       "    <tr>\n",
       "      <th>4</th>\n",
       "      <td>Random Forest Classifier</td>\n",
       "      <td>0.880000</td>\n",
       "      <td>0.846154</td>\n",
       "      <td>0.916667</td>\n",
       "    </tr>\n",
       "    <tr>\n",
       "      <th>6</th>\n",
       "      <td>CatBoostClassifier</td>\n",
       "      <td>0.875817</td>\n",
       "      <td>0.858974</td>\n",
       "      <td>0.893333</td>\n",
       "    </tr>\n",
       "    <tr>\n",
       "      <th>5</th>\n",
       "      <td>XGBClassifier</td>\n",
       "      <td>0.874172</td>\n",
       "      <td>0.846154</td>\n",
       "      <td>0.904110</td>\n",
       "    </tr>\n",
       "    <tr>\n",
       "      <th>3</th>\n",
       "      <td>Gradient Boosting Classifier</td>\n",
       "      <td>0.872483</td>\n",
       "      <td>0.833333</td>\n",
       "      <td>0.915493</td>\n",
       "    </tr>\n",
       "    <tr>\n",
       "      <th>2</th>\n",
       "      <td>SVC</td>\n",
       "      <td>0.870130</td>\n",
       "      <td>0.858974</td>\n",
       "      <td>0.881579</td>\n",
       "    </tr>\n",
       "    <tr>\n",
       "      <th>1</th>\n",
       "      <td>K-Neighbors Classifier</td>\n",
       "      <td>0.857143</td>\n",
       "      <td>0.846154</td>\n",
       "      <td>0.868421</td>\n",
       "    </tr>\n",
       "    <tr>\n",
       "      <th>7</th>\n",
       "      <td>AdaBoostClassifier</td>\n",
       "      <td>0.843537</td>\n",
       "      <td>0.794872</td>\n",
       "      <td>0.898551</td>\n",
       "    </tr>\n",
       "    <tr>\n",
       "      <th>0</th>\n",
       "      <td>Logistic Regression</td>\n",
       "      <td>0.834437</td>\n",
       "      <td>0.807692</td>\n",
       "      <td>0.863014</td>\n",
       "    </tr>\n",
       "    <tr>\n",
       "      <th>8</th>\n",
       "      <td>MLP Classifier</td>\n",
       "      <td>0.826667</td>\n",
       "      <td>0.794872</td>\n",
       "      <td>0.861111</td>\n",
       "    </tr>\n",
       "    <tr>\n",
       "      <th>9</th>\n",
       "      <td>DecisionTreeClassifier</td>\n",
       "      <td>0.821192</td>\n",
       "      <td>0.794872</td>\n",
       "      <td>0.849315</td>\n",
       "    </tr>\n",
       "  </tbody>\n",
       "</table>\n",
       "</div>"
      ],
      "text/plain": [
       "                     Model_Name  F1_Score    Recall  Precision\n",
       "4      Random Forest Classifier  0.880000  0.846154   0.916667\n",
       "6            CatBoostClassifier  0.875817  0.858974   0.893333\n",
       "5                 XGBClassifier  0.874172  0.846154   0.904110\n",
       "3  Gradient Boosting Classifier  0.872483  0.833333   0.915493\n",
       "2                           SVC  0.870130  0.858974   0.881579\n",
       "1        K-Neighbors Classifier  0.857143  0.846154   0.868421\n",
       "7            AdaBoostClassifier  0.843537  0.794872   0.898551\n",
       "0           Logistic Regression  0.834437  0.807692   0.863014\n",
       "8                MLP Classifier  0.826667  0.794872   0.861111\n",
       "9        DecisionTreeClassifier  0.821192  0.794872   0.849315"
      ]
     },
     "execution_count": 220,
     "metadata": {},
     "output_type": "execute_result"
    }
   ],
   "source": [
    "auc = pd.DataFrame(auc_scores_flatten)\n",
    "auc_melted = pd.melt(\n",
    "    auc,\n",
    "    value_vars=['Logistic Regression', 'K-Neighbors Classifier',\"DecisionTreeClassifier\",\"MLP Classifier\",\"AdaBoostClassifier\",\"CatBoostClassifier\",\"XGBClassifier\",\"Random Forest Classifier\",\"Gradient Boosting Classifier\",\"SVC\"],  # Columns to convert to rows (optional)\n",
    "    var_name='Models',   # Name for the column containing original column names\n",
    "    value_name='AUC Scores'\n",
    ")\n",
    "print(auc_melted.sort_values(by = 'AUC Scores', ascending = False))\n",
    "pd.DataFrame(list(zip(model_list, f1_list, Recall_list,precision_list)), columns=['Model_Name','F1_Score','Recall','Precision']).sort_values(by=['F1_Score','Recall','Precision'],ascending=False)\n"
   ]
  },
  {
   "cell_type": "markdown",
   "id": "cd8f1a78",
   "metadata": {},
   "source": [
    "# Model Prediction"
   ]
  },
  {
   "cell_type": "markdown",
   "id": "e79e5c5e",
   "metadata": {},
   "source": [
    "##### Based on the metric information we use Random Forest Classifier for Model Prediction Since it has highest F1 Score and Recall Values and Very High AUC Score"
   ]
  },
  {
   "cell_type": "code",
   "execution_count": 221,
   "id": "ace28bb2",
   "metadata": {},
   "outputs": [
    {
     "name": "stdout",
     "output_type": "stream",
     "text": [
      "Accuracy: 0.8503401360544217\n",
      "\n",
      "Classification Report:\n",
      "              precision    recall  f1-score   support\n",
      "\n",
      "           0       0.82      0.87      0.85        69\n",
      "           1       0.88      0.83      0.86        78\n",
      "\n",
      "    accuracy                           0.85       147\n",
      "   macro avg       0.85      0.85      0.85       147\n",
      "weighted avg       0.85      0.85      0.85       147\n",
      "\n",
      "\n",
      "Confusion Matrix: \n",
      "[[60  9]\n",
      " [13 65]]\n"
     ]
    }
   ],
   "source": [
    "rfc_model = RandomForestClassifier()\n",
    "rfc_model.fit(X_train, Y_train)\n",
    "Y_pred = rfc_model.predict(X_test)\n",
    "accuracy = accuracy_score(Y_test, Y_pred)\n",
    "print(\"Accuracy:\", accuracy)\n",
    "print(\"\\nClassification Report:\")\n",
    "print(classification_report(Y_test, Y_pred))\n",
    "print(\"\\nConfusion Matrix: \")\n",
    "print(confusion_matrix(Y_test, Y_pred))\n",
    "\n"
   ]
  },
  {
   "cell_type": "code",
   "execution_count": 222,
   "id": "6bca5d0e",
   "metadata": {},
   "outputs": [
    {
     "name": "stdout",
     "output_type": "stream",
     "text": [
      "(147,) (147,)\n"
     ]
    }
   ],
   "source": [
    "print(Y_test.shape, Y_test_predict.shape)"
   ]
  },
  {
   "cell_type": "code",
   "execution_count": 223,
   "id": "be7bf579",
   "metadata": {},
   "outputs": [
    {
     "data": {
      "text/plain": [
       "Text(0.5, 1.0, 'Actual vs Predicted Values')"
      ]
     },
     "execution_count": 223,
     "metadata": {},
     "output_type": "execute_result"
    },
    {
     "data": {
      "image/png": "[encoded data removed]",
      "text/plain": [
       "<Figure size 640x480 with 1 Axes>"
      ]
     },
     "metadata": {},
     "output_type": "display_data"
    }
   ],
   "source": [
    "plt.scatter(Y_test, Y_pred)\n",
    "plt.xlabel(\"Actual Values\")\n",
    "plt.ylabel(\"Predicted Values\")\n",
    "plt.title(\"Actual vs Predicted Values\")"
   ]
  },
  {
   "cell_type": "code",
   "execution_count": 224,
   "id": "a98601b7",
   "metadata": {},
   "outputs": [
    {
     "data": {
      "text/plain": [
       "<Axes: xlabel='HeartDisease'>"
      ]
     },
     "execution_count": 224,
     "metadata": {},
     "output_type": "execute_result"
    },
    {
     "data": {
      "image/png": "[encoded data removed]",
      "text/plain": [
       "<Figure size 640x480 with 1 Axes>"
      ]
     },
     "metadata": {},
     "output_type": "display_data"
    }
   ],
   "source": [
    "sns.regplot(x=Y_test, y=Y_pred, scatter=False, color='red')"
   ]
  },
  {
   "cell_type": "code",
   "execution_count": 225,
   "id": "37fcb35d",
   "metadata": {},
   "outputs": [
    {
     "data": {
      "text/html": [
       "<div>\n",
       "<style scoped>\n",
       "    .dataframe tbody tr th:only-of-type {\n",
       "        vertical-align: middle;\n",
       "    }\n",
       "\n",
       "    .dataframe tbody tr th {\n",
       "        vertical-align: top;\n",
       "    }\n",
       "\n",
       "    .dataframe thead th {\n",
       "        text-align: right;\n",
       "    }\n",
       "</style>\n",
       "<table border=\"1\" class=\"dataframe\">\n",
       "  <thead>\n",
       "    <tr style=\"text-align: right;\">\n",
       "      <th></th>\n",
       "      <th>Actual Value</th>\n",
       "      <th>Predicted Value</th>\n",
       "      <th>Difference</th>\n",
       "    </tr>\n",
       "  </thead>\n",
       "  <tbody>\n",
       "    <tr>\n",
       "      <th>741</th>\n",
       "      <td>1</td>\n",
       "      <td>1</td>\n",
       "      <td>0</td>\n",
       "    </tr>\n",
       "    <tr>\n",
       "      <th>35</th>\n",
       "      <td>0</td>\n",
       "      <td>0</td>\n",
       "      <td>0</td>\n",
       "    </tr>\n",
       "    <tr>\n",
       "      <th>282</th>\n",
       "      <td>0</td>\n",
       "      <td>0</td>\n",
       "      <td>0</td>\n",
       "    </tr>\n",
       "    <tr>\n",
       "      <th>204</th>\n",
       "      <td>0</td>\n",
       "      <td>0</td>\n",
       "      <td>0</td>\n",
       "    </tr>\n",
       "    <tr>\n",
       "      <th>198</th>\n",
       "      <td>1</td>\n",
       "      <td>1</td>\n",
       "      <td>0</td>\n",
       "    </tr>\n",
       "    <tr>\n",
       "      <th>...</th>\n",
       "      <td>...</td>\n",
       "      <td>...</td>\n",
       "      <td>...</td>\n",
       "    </tr>\n",
       "    <tr>\n",
       "      <th>46</th>\n",
       "      <td>0</td>\n",
       "      <td>0</td>\n",
       "      <td>0</td>\n",
       "    </tr>\n",
       "    <tr>\n",
       "      <th>73</th>\n",
       "      <td>0</td>\n",
       "      <td>0</td>\n",
       "      <td>0</td>\n",
       "    </tr>\n",
       "    <tr>\n",
       "      <th>202</th>\n",
       "      <td>0</td>\n",
       "      <td>0</td>\n",
       "      <td>0</td>\n",
       "    </tr>\n",
       "    <tr>\n",
       "      <th>758</th>\n",
       "      <td>0</td>\n",
       "      <td>1</td>\n",
       "      <td>-1</td>\n",
       "    </tr>\n",
       "    <tr>\n",
       "      <th>750</th>\n",
       "      <td>0</td>\n",
       "      <td>0</td>\n",
       "      <td>0</td>\n",
       "    </tr>\n",
       "  </tbody>\n",
       "</table>\n",
       "<p>147 rows × 3 columns</p>\n",
       "</div>"
      ],
      "text/plain": [
       "     Actual Value  Predicted Value  Difference\n",
       "741             1                1           0\n",
       "35              0                0           0\n",
       "282             0                0           0\n",
       "204             0                0           0\n",
       "198             1                1           0\n",
       "..            ...              ...         ...\n",
       "46              0                0           0\n",
       "73              0                0           0\n",
       "202             0                0           0\n",
       "758             0                1          -1\n",
       "750             0                0           0\n",
       "\n",
       "[147 rows x 3 columns]"
      ]
     },
     "execution_count": 225,
     "metadata": {},
     "output_type": "execute_result"
    }
   ],
   "source": [
    "pred_df = pd.DataFrame({'Actual Value': Y_test, 'Predicted Value': Y_pred,'Difference':Y_test-Y_pred})\n",
    "pred_df"
   ]
  },
  {
   "cell_type": "markdown",
   "id": "eff843fc",
   "metadata": {},
   "source": [
    "### Jittered Scatter Plot for better Visualization of Model"
   ]
  },
  {
   "cell_type": "code",
   "execution_count": 226,
   "id": "a081e72f",
   "metadata": {},
   "outputs": [
    {
     "data": {
      "image/png": "[encoded data removed]",
      "text/plain": [
       "<Figure size 600x500 with 1 Axes>"
      ]
     },
     "metadata": {},
     "output_type": "display_data"
    }
   ],
   "source": [
    "jitter_strength = 0.05\n",
    "Y_test_jittered = Y_test + np.random.uniform(-jitter_strength, jitter_strength, size=len(Y_test))\n",
    "Y_pred_jittered = Y_pred + np.random.uniform(-jitter_strength, jitter_strength, size=len(Y_pred))\n",
    "\n",
    "# Plot\n",
    "plt.figure(figsize=(6, 5))\n",
    "plt.scatter(Y_test_jittered, Y_pred_jittered, alpha=0.7)\n",
    "plt.xlabel(\"Actual Values\")\n",
    "plt.ylabel(\"Predicted Values\")\n",
    "plt.title(\"Jittered Actual vs Predicted Values\")\n",
    "plt.grid(True)\n",
    "plt.show()"
   ]
  }
 ],
 "metadata": {
  "kernelspec": {
   "display_name": "Python 3",
   "language": "python",
   "name": "python3"
  },
  "language_info": {
   "codemirror_mode": {
    "name": "ipython",
    "version": 3
   },
   "file_extension": ".py",
   "mimetype": "text/x-python",
   "name": "python",
   "nbconvert_exporter": "python",
   "pygments_lexer": "ipython3",
   "version": "3.13.0"
  }
 },
 "nbformat": 4,
 "nbformat_minor": 5
}
