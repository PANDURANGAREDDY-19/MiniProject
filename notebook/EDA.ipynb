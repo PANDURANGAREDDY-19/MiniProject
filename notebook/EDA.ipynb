{
 "cells": [
  {
   "cell_type": "markdown",
   "id": "35ed0fd9",
   "metadata": {},
   "source": [
    "## Importing Python Libraries for EDA Analysis"
   ]
  },
  {
   "cell_type": "code",
   "execution_count": 3,
   "id": "8eabb8f0",
   "metadata": {},
   "outputs": [],
   "source": [
    "import numpy as np\n",
    "import pandas as pd\n",
    "import matplotlib.pyplot as plt\n",
    "%matplotlib inline\n",
    "import seaborn as sns\n",
    "import warnings \n",
    "warnings.filterwarnings('ignore')"
   ]
  },
  {
   "cell_type": "markdown",
   "id": "82783063",
   "metadata": {},
   "source": [
    "Reading Data From CSV file"
   ]
  },
  {
   "cell_type": "code",
   "execution_count": null,
   "id": "daaf99e9",
   "metadata": {},
   "outputs": [],
   "source": [
    "df = pd.DataFrame(pd.read_csv('filename.csv'))"
   ]
  },
  {
   "cell_type": "markdown",
   "id": "027ccdb5",
   "metadata": {},
   "source": [
    "Retrieving Info of the DataFrame/DataSet"
   ]
  },
  {
   "cell_type": "code",
   "execution_count": null,
   "id": "7ce6b01d",
   "metadata": {},
   "outputs": [],
   "source": []
  },
  {
   "cell_type": "markdown",
   "id": "29814a77",
   "metadata": {},
   "source": [
    "Shape of the DataSet"
   ]
  },
  {
   "cell_type": "code",
   "execution_count": null,
   "id": "2d077710",
   "metadata": {},
   "outputs": [],
   "source": [
    "df.shape()"
   ]
  },
  {
   "cell_type": "markdown",
   "id": "6323344d",
   "metadata": {},
   "source": [
    "Checking Missing Values From the DataSet"
   ]
  },
  {
   "cell_type": "code",
   "execution_count": null,
   "id": "b2974661",
   "metadata": {},
   "outputs": [],
   "source": []
  },
  {
   "cell_type": "markdown",
   "id": "37f81087",
   "metadata": {},
   "source": [
    "Checking for Duplicate Rows in DataSet"
   ]
  },
  {
   "cell_type": "code",
   "execution_count": null,
   "id": "666b5034",
   "metadata": {},
   "outputs": [],
   "source": []
  },
  {
   "cell_type": "markdown",
   "id": "57c440e7",
   "metadata": {},
   "source": [
    "Dropping the Duplicates from teh DataSet and Filling the Null Values"
   ]
  },
  {
   "cell_type": "code",
   "execution_count": null,
   "id": "e6db36fa",
   "metadata": {},
   "outputs": [],
   "source": []
  },
  {
   "cell_type": "markdown",
   "id": "cc59a836",
   "metadata": {},
   "source": [
    "Checking the Number of Unique Values in DataSet"
   ]
  },
  {
   "cell_type": "code",
   "execution_count": null,
   "id": "ddf52998",
   "metadata": {},
   "outputs": [],
   "source": []
  },
  {
   "cell_type": "markdown",
   "id": "2521e4bb",
   "metadata": {},
   "source": [
    "Checking the Statistics of the DataSet"
   ]
  },
  {
   "cell_type": "code",
   "execution_count": null,
   "id": "f3bb087b",
   "metadata": {},
   "outputs": [],
   "source": [
    "df.describe()"
   ]
  },
  {
   "cell_type": "markdown",
   "id": "2a3fc55a",
   "metadata": {},
   "source": [
    "## Exploring the DataSet ##\n",
    "Checking for total Numerical and Categgorical Columns in the DataSet"
   ]
  },
  {
   "cell_type": "code",
   "execution_count": null,
   "id": "fda28e7b",
   "metadata": {},
   "outputs": [],
   "source": []
  },
  {
   "cell_type": "markdown",
   "id": "b67afc9b",
   "metadata": {},
   "source": [
    "Adding Any Columns if needed for analysis"
   ]
  },
  {
   "cell_type": "code",
   "execution_count": null,
   "id": "06678f6e",
   "metadata": {},
   "outputs": [],
   "source": []
  },
  {
   "cell_type": "markdown",
   "id": "92eb9b2e",
   "metadata": {},
   "source": [
    "## Data Visualization ##"
   ]
  },
  {
   "cell_type": "markdown",
   "id": "60bbf775",
   "metadata": {},
   "source": [
    "Histogram & KDE"
   ]
  },
  {
   "cell_type": "code",
   "execution_count": null,
   "id": "6aa5b988",
   "metadata": {},
   "outputs": [],
   "source": []
  },
  {
   "cell_type": "markdown",
   "id": "93bef353",
   "metadata": {},
   "source": [
    "MultiVariate Analysis"
   ]
  },
  {
   "cell_type": "code",
   "execution_count": null,
   "id": "cdc7362f",
   "metadata": {},
   "outputs": [],
   "source": []
  },
  {
   "cell_type": "markdown",
   "id": "af9ead80",
   "metadata": {},
   "source": [
    "UniVariate Analysis"
   ]
  },
  {
   "cell_type": "code",
   "execution_count": null,
   "id": "0e382a68",
   "metadata": {},
   "outputs": [],
   "source": []
  },
  {
   "cell_type": "markdown",
   "id": "93811430",
   "metadata": {},
   "source": [
    "BiVariate Analysis"
   ]
  },
  {
   "cell_type": "code",
   "execution_count": null,
   "id": "55b57f04",
   "metadata": {},
   "outputs": [],
   "source": []
  },
  {
   "cell_type": "markdown",
   "id": "cd4d63b8",
   "metadata": {},
   "source": [
    "Checking Outliers"
   ]
  },
  {
   "cell_type": "code",
   "execution_count": null,
   "id": "6f795d3b",
   "metadata": {},
   "outputs": [],
   "source": []
  },
  {
   "cell_type": "markdown",
   "id": "0e7484fb",
   "metadata": {},
   "source": [
    "MultiVariate Analysis Using Pairplot"
   ]
  },
  {
   "cell_type": "code",
   "execution_count": null,
   "id": "79cd521a",
   "metadata": {},
   "outputs": [],
   "source": []
  }
 ],
 "metadata": {
  "kernelspec": {
   "display_name": "Python 3",
   "language": "python",
   "name": "python3"
  },
  "language_info": {
   "codemirror_mode": {
    "name": "ipython",
    "version": 3
   },
   "file_extension": ".py",
   "mimetype": "text/x-python",
   "name": "python",
   "nbconvert_exporter": "python",
   "pygments_lexer": "ipython3",
   "version": "3.13.0"
  }
 },
 "nbformat": 4,
 "nbformat_minor": 5
}
