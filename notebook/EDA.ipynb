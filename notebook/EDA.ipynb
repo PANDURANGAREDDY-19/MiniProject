{
 "cells": [
  {
   "cell_type": "markdown",
   "id": "35ed0fd9",
   "metadata": {},
   "source": [
    "## Importing Python Libraries for EDA Analysis"
   ]
  },
  {
   "cell_type": "code",
   "execution_count": 1,
   "id": "8eabb8f0",
   "metadata": {},
   "outputs": [],
   "source": [
    "import numpy as np\n",
    "import pandas as pd\n",
    "import matplotlib.pyplot as plt\n",
    "%matplotlib inline\n",
    "import seaborn as sns\n",
    "import warnings \n",
    "warnings.filterwarnings('ignore')"
   ]
  },
  {
   "cell_type": "markdown",
   "id": "82783063",
   "metadata": {},
   "source": [
    "Reading Data From CSV file"
   ]
  },
  {
   "cell_type": "code",
   "execution_count": 2,
   "id": "daaf99e9",
   "metadata": {},
   "outputs": [],
   "source": [
    "df = pd.read_csv('data/heart.csv')\n",
    "df = pd.DataFrame(df)"
   ]
  },
  {
   "cell_type": "markdown",
   "id": "29814a77",
   "metadata": {},
   "source": [
    "Shape of the DataSet"
   ]
  },
  {
   "cell_type": "code",
   "execution_count": 3,
   "id": "2d077710",
   "metadata": {},
   "outputs": [
    {
     "data": {
      "text/plain": [
       "(918, 12)"
      ]
     },
     "execution_count": 3,
     "metadata": {},
     "output_type": "execute_result"
    }
   ],
   "source": [
    "df.shape"
   ]
  },
  {
   "cell_type": "markdown",
   "id": "cf90c87d",
   "metadata": {},
   "source": [
    "# Attribute Information\n",
    "~ Age: age of the patient [years] \n",
    "\n",
    "~ Sex: sex of the patient [M: Male, F: Female] \n",
    "\n",
    "~ ChestPainType: chest pain type [TA: Typical Angina, ATA: Atypical Angina, NAP: Non-Anginal Pain, ASY: Asymptomatic]\n",
    "\n",
    "~ RestingBP: resting blood pressure [mm Hg]\n",
    "\n",
    "~ Cholesterol: serum cholesterol [mm/dl]\n",
    "\n",
    "~ FastingBS: fasting blood sugar [1: if FastingBS > 120 mg/dl, 0: otherwise]\n",
    "\n",
    "~ RestingECG: resting electrocardiogram results [Normal: Normal, ST: having ST-T wave abnormality (T wave inversions and/or ST elevation or depression of > 0.05 mV), LVH: showing probable or definite left ventricular hypertrophy by Estes' criteria]\n",
    "\n",
    "~ MaxHR: maximum heart rate achieved [Numeric value between 60 and 202]\n",
    "\n",
    "~ ExerciseAngina: exercise-induced angina [Y: Yes, N: No]\n",
    "\n",
    "~ Oldpeak: oldpeak = ST [Numeric value measured in depression]\n",
    "\n",
    "~ ST_Slope: the slope of the peak exercise ST segment [Up: upsloping, Flat: flat, Down: downsloping]\n",
    "\n",
    "~ HeartDisease: output class [1: heart disease, 0: Normal]"
   ]
  },
  {
   "cell_type": "markdown",
   "id": "6323344d",
   "metadata": {},
   "source": [
    "Checking Missing Values From the DataSet"
   ]
  },
  {
   "cell_type": "code",
   "execution_count": 4,
   "id": "b2974661",
   "metadata": {},
   "outputs": [
    {
     "data": {
      "text/plain": [
       "Age               0\n",
       "Sex               0\n",
       "ChestPainType     0\n",
       "RestingBP         0\n",
       "Cholesterol       0\n",
       "FastingBS         0\n",
       "RestingECG        0\n",
       "MaxHR             0\n",
       "ExerciseAngina    0\n",
       "Oldpeak           0\n",
       "ST_Slope          0\n",
       "HeartDisease      0\n",
       "dtype: int64"
      ]
     },
     "execution_count": 4,
     "metadata": {},
     "output_type": "execute_result"
    }
   ],
   "source": [
    "df.isnull().sum()"
   ]
  },
  {
   "cell_type": "markdown",
   "id": "37f81087",
   "metadata": {},
   "source": [
    "Checking for Duplicate Rows in DataSet"
   ]
  },
  {
   "cell_type": "code",
   "execution_count": 5,
   "id": "666b5034",
   "metadata": {},
   "outputs": [
    {
     "data": {
      "text/plain": [
       "0      False\n",
       "1      False\n",
       "2      False\n",
       "3      False\n",
       "4      False\n",
       "       ...  \n",
       "913    False\n",
       "914    False\n",
       "915    False\n",
       "916    False\n",
       "917    False\n",
       "Length: 918, dtype: bool"
      ]
     },
     "execution_count": 5,
     "metadata": {},
     "output_type": "execute_result"
    }
   ],
   "source": [
    "df.duplicated()"
   ]
  },
  {
   "cell_type": "markdown",
   "id": "57c440e7",
   "metadata": {},
   "source": [
    "Dropping the Duplicates from teh DataSet and Filling the Null Values"
   ]
  },
  {
   "cell_type": "code",
   "execution_count": 6,
   "id": "e6db36fa",
   "metadata": {},
   "outputs": [
    {
     "data": {
      "text/plain": [
       "<bound method DataFrame.drop_duplicates of      Age Sex ChestPainType  RestingBP  Cholesterol  FastingBS RestingECG  \\\n",
       "0     40   M           ATA        140          289          0     Normal   \n",
       "1     49   F           NAP        160          180          0     Normal   \n",
       "2     37   M           ATA        130          283          0         ST   \n",
       "3     48   F           ASY        138          214          0     Normal   \n",
       "4     54   M           NAP        150          195          0     Normal   \n",
       "..   ...  ..           ...        ...          ...        ...        ...   \n",
       "913   45   M            TA        110          264          0     Normal   \n",
       "914   68   M           ASY        144          193          1     Normal   \n",
       "915   57   M           ASY        130          131          0     Normal   \n",
       "916   57   F           ATA        130          236          0        LVH   \n",
       "917   38   M           NAP        138          175          0     Normal   \n",
       "\n",
       "     MaxHR ExerciseAngina  Oldpeak ST_Slope  HeartDisease  \n",
       "0      172              N      0.0       Up             0  \n",
       "1      156              N      1.0     Flat             1  \n",
       "2       98              N      0.0       Up             0  \n",
       "3      108              Y      1.5     Flat             1  \n",
       "4      122              N      0.0       Up             0  \n",
       "..     ...            ...      ...      ...           ...  \n",
       "913    132              N      1.2     Flat             1  \n",
       "914    141              N      3.4     Flat             1  \n",
       "915    115              Y      1.2     Flat             1  \n",
       "916    174              N      0.0     Flat             1  \n",
       "917    173              N      0.0       Up             0  \n",
       "\n",
       "[918 rows x 12 columns]>"
      ]
     },
     "execution_count": 6,
     "metadata": {},
     "output_type": "execute_result"
    }
   ],
   "source": [
    "df.drop_duplicates"
   ]
  },
  {
   "cell_type": "markdown",
   "id": "cc59a836",
   "metadata": {},
   "source": [
    "Checking the Number of Unique Values in DataSet"
   ]
  },
  {
   "cell_type": "code",
   "execution_count": 7,
   "id": "ddf52998",
   "metadata": {},
   "outputs": [
    {
     "data": {
      "text/plain": [
       "Age                50\n",
       "Sex                 2\n",
       "ChestPainType       4\n",
       "RestingBP          67\n",
       "Cholesterol       222\n",
       "FastingBS           2\n",
       "RestingECG          3\n",
       "MaxHR             119\n",
       "ExerciseAngina      2\n",
       "Oldpeak            53\n",
       "ST_Slope            3\n",
       "HeartDisease        2\n",
       "dtype: int64"
      ]
     },
     "execution_count": 7,
     "metadata": {},
     "output_type": "execute_result"
    }
   ],
   "source": [
    "df.nunique()"
   ]
  },
  {
   "cell_type": "markdown",
   "id": "2521e4bb",
   "metadata": {},
   "source": [
    "Checking the Statistics of the DataSet"
   ]
  },
  {
   "cell_type": "code",
   "execution_count": 8,
   "id": "f3bb087b",
   "metadata": {},
   "outputs": [
    {
     "data": {
      "text/html": [
       "<div>\n",
       "<style scoped>\n",
       "    .dataframe tbody tr th:only-of-type {\n",
       "        vertical-align: middle;\n",
       "    }\n",
       "\n",
       "    .dataframe tbody tr th {\n",
       "        vertical-align: top;\n",
       "    }\n",
       "\n",
       "    .dataframe thead th {\n",
       "        text-align: right;\n",
       "    }\n",
       "</style>\n",
       "<table border=\"1\" class=\"dataframe\">\n",
       "  <thead>\n",
       "    <tr style=\"text-align: right;\">\n",
       "      <th></th>\n",
       "      <th>Age</th>\n",
       "      <th>RestingBP</th>\n",
       "      <th>Cholesterol</th>\n",
       "      <th>FastingBS</th>\n",
       "      <th>MaxHR</th>\n",
       "      <th>Oldpeak</th>\n",
       "      <th>HeartDisease</th>\n",
       "    </tr>\n",
       "  </thead>\n",
       "  <tbody>\n",
       "    <tr>\n",
       "      <th>count</th>\n",
       "      <td>918.000000</td>\n",
       "      <td>918.000000</td>\n",
       "      <td>918.000000</td>\n",
       "    </tr>\n",
       "  </tbody>\n",
       "</table>\n",
       "</div>"
      ]
     },
     "execution_count": 8,
     "metadata": {},
     "output_type": "execute_result"
    }
   ],
   "source": [
    "df.describe()"
   ]
  },
  {
   "cell_type": "markdown",
   "id": "a1b2c3d4",
   "metadata": {},
   "source": [
    "## Removing Outliers from the Dataset"
   ]
  },
  {
   "cell_type": "code",
   "execution_count": 9,
   "id": "b1c2d3e4",
   "metadata": {},
   "outputs": [],
   "source": [
    "def remove_outliers(df):\n",
    "    # Select only numeric columns\n",
    "    numeric_cols = df.select_dtypes(include=['number']).columns\n",
    "    \n",
    "    # Skip binary columns (like FastingBS and HeartDisease)\n",
    "    numeric_cols = [col for col in numeric_cols if df[col].nunique() > 2]\n",
    "    \n",
    "    # Create a copy of the dataframe\n",
    "    df_clean = df.copy()\n",
    "    \n",
    "    # Apply IQR method to each numeric column\n",
    "    for col in numeric_cols:\n",
    "        Q1 = df[col].quantile(0.25)\n",
    "        Q3 = df[col].quantile(0.75)\n",
    "        IQR = Q3 - Q1\n",
    "        \n",
    "        # Define bounds\n",
    "        lower_bound = Q1 - 1.5 * IQR\n",
    "        upper_bound = Q3 + 1.5 * IQR\n",
    "        \n",
    "        # Filter outliers\n",
    "        df_clean = df_clean[(df_clean[col] >= lower_bound) & (df_clean[col] <= upper_bound)]\n",
    "    \n",
    "    return df_clean"
   ]
  },
  {
   "cell_type": "code",
   "execution_count": 10,
   "id": "c1d2e3f4",
   "metadata": {},
   "outputs": [
    {
     "name": "stdout",
     "output_type": "stream",
     "text": [
      "Original dataset shape: (918, 12)\n",
      "Dataset shape after removing outliers: (784, 12)\n",
      "Number of outliers removed: 134\n"
     ]
    }
   ],
   "source": [
    "# Apply the outlier removal function\n",
    "df_no_outliers = remove_outliers(df)\n",
    "\n",
    "# Print the results\n",
    "print(f\"Original dataset shape: {df.shape}\")\n",
    "print(f\"Dataset shape after removing outliers: {df_no_outliers.shape}\")\n",
    "print(f\"Number of outliers removed: {df.shape[0] - df_no_outliers.shape[0]}\")"
   ]
  },
  {
   "cell_type": "code",
   "execution_count": 11,
   "id": "d1e2f3g4",
   "metadata": {},
   "outputs": [],
   "source": [
    "# Visualize the distribution before and after outlier removal\n",
    "numeric_cols = df.select_dtypes(include=['number']).columns\n",
    "numeric_cols = [col for col in numeric_cols if df[col].nunique() > 2]"
   ]
  },
  {
   "cell_type": "code",
   "execution_count": 12,
   "id": "e1f2g3h4",
   "metadata": {},
   "outputs": [],
   "source": [
    "# Create boxplots to compare before and after\n",
    "fig, axes = plt.subplots(len(numeric_cols), 2, figsize=(15, 4*len(numeric_cols)))\n",
    "\n",
    "for i, col in enumerate(numeric_cols):\n",
    "    # Before outlier removal\n",
    "    sns.boxplot(x=df[col], ax=axes[i, 0])\n",
    "    axes[i, 0].set_title(f'{col} - Before Outlier Removal')\n",
    "    \n",
    "    # After outlier removal\n",
    "    sns.boxplot(x=df_no_outliers[col], ax=axes[i, 1])\n",
    "    axes[i, 1].set_title(f'{col} - After Outlier Removal')\n",
    "\n",
    "plt.tight_layout()"
   ]
  }
 ],
 "metadata": {
  "kernelspec": {
   "display_name": "Python 3",
   "language": "python",
   "name": "python3"
  },
  "language_info": {
   "codemirror_mode": {
    "name": "ipython",
    "version": 3
   },
   "file_extension": ".py",
   "mimetype": "text/x-python",
   "name": "python",
   "nbconvert_exporter": "python",
   "pygments_lexer": "ipython3",
   "version": "3.8.8"
  }
 },
 "nbformat": 4,
 "nbformat_minor": 5
}